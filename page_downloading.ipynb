{
 "cells": [
  {
   "cell_type": "code",
   "execution_count": 59,
   "metadata": {},
   "outputs": [],
   "source": [
    "import requests, os\n",
    "from bs4 import BeautifulSoup\n",
    "from src.downloader import download\n",
    "\n",
    "def get_html(url):\n",
    "    \"\"\"Get raw HTML from a URL.\"\"\"\n",
    "    headers = {\n",
    "        'Access-Control-Allow-Origin': '*',\n",
    "        'Access-Control-Allow-Methods': 'GET',\n",
    "        'Access-Control-Allow-Headers': 'Content-Type',\n",
    "        'Access-Control-Max-Age': '3600',\n",
    "        'User-Agent': 'Mozilla/5.0 (X11; Ubuntu; Linux x86_64; rv:52.0) Gecko/20100101 Firefox/52.0'\n",
    "    }\n",
    "    req = requests.get(url, headers=headers)\n",
    "    return req.text\n",
    "    \n",
    "\n",
    "def get_image(html):\n",
    "    \"\"\"Scrape share image.\"\"\"\n",
    "    image = []\n",
    "    if html.find(\"meta\", property=\"image\"):\n",
    "        image = html.find(\"meta\", property=\"image\").get('content')\n",
    "    elif html.find(\"meta\", property=\"og:image\"):\n",
    "        image = html.find(\"meta\", property=\"og:image\").get('content')\n",
    "    elif html.find(\"meta\", property=\"twitter:image\"):\n",
    "        image = html.find(\"meta\", property=\"twitter:image\").get('content')\n",
    "    elif html.find(\"img\", src=True):\n",
    "        for img in html.find_all(\"img\"):\n",
    "            image.append(img.get('src'))\n",
    "    return image\n",
    "\n",
    "\n",
    "def check_word(word):\n",
    "    def check(url):\n",
    "        return (word in url)\n",
    "    return check"
   ]
  },
  {
   "cell_type": "code",
   "execution_count": 14,
   "metadata": {},
   "outputs": [
    {
     "ename": "SSLError",
     "evalue": "HTTPSConnectionPool(host='m.media-amazon.com', port=443): Max retries exceeded with url: /images/I/61YC5v2tk7L._AC_UL320_.jpg (Caused by SSLError(SSLCertVerificationError(1, '[SSL: CERTIFICATE_VERIFY_FAILED] certificate verify failed: self signed certificate in certificate chain (_ssl.c:1076)')))",
     "output_type": "error",
     "traceback": [
      "\u001b[1;31m---------------------------------------------------------------------------\u001b[0m",
      "\u001b[1;31mSSLCertVerificationError\u001b[0m                  Traceback (most recent call last)",
      "\u001b[1;32m~\\.conda\\envs\\gotenkusu2\\lib\\site-packages\\urllib3\\connectionpool.py\u001b[0m in \u001b[0;36murlopen\u001b[1;34m(self, method, url, body, headers, retries, redirect, assert_same_host, timeout, pool_timeout, release_conn, chunked, body_pos, **response_kw)\u001b[0m\n\u001b[0;32m    676\u001b[0m                 \u001b[0mheaders\u001b[0m\u001b[1;33m=\u001b[0m\u001b[0mheaders\u001b[0m\u001b[1;33m,\u001b[0m\u001b[1;33m\u001b[0m\u001b[1;33m\u001b[0m\u001b[0m\n\u001b[1;32m--> 677\u001b[1;33m                 \u001b[0mchunked\u001b[0m\u001b[1;33m=\u001b[0m\u001b[0mchunked\u001b[0m\u001b[1;33m,\u001b[0m\u001b[1;33m\u001b[0m\u001b[1;33m\u001b[0m\u001b[0m\n\u001b[0m\u001b[0;32m    678\u001b[0m             )\n",
      "\u001b[1;32m~\\.conda\\envs\\gotenkusu2\\lib\\site-packages\\urllib3\\connectionpool.py\u001b[0m in \u001b[0;36m_make_request\u001b[1;34m(self, conn, method, url, timeout, chunked, **httplib_request_kw)\u001b[0m\n\u001b[0;32m    380\u001b[0m         \u001b[1;32mtry\u001b[0m\u001b[1;33m:\u001b[0m\u001b[1;33m\u001b[0m\u001b[1;33m\u001b[0m\u001b[0m\n\u001b[1;32m--> 381\u001b[1;33m             \u001b[0mself\u001b[0m\u001b[1;33m.\u001b[0m\u001b[0m_validate_conn\u001b[0m\u001b[1;33m(\u001b[0m\u001b[0mconn\u001b[0m\u001b[1;33m)\u001b[0m\u001b[1;33m\u001b[0m\u001b[1;33m\u001b[0m\u001b[0m\n\u001b[0m\u001b[0;32m    382\u001b[0m         \u001b[1;32mexcept\u001b[0m \u001b[1;33m(\u001b[0m\u001b[0mSocketTimeout\u001b[0m\u001b[1;33m,\u001b[0m \u001b[0mBaseSSLError\u001b[0m\u001b[1;33m)\u001b[0m \u001b[1;32mas\u001b[0m \u001b[0me\u001b[0m\u001b[1;33m:\u001b[0m\u001b[1;33m\u001b[0m\u001b[1;33m\u001b[0m\u001b[0m\n",
      "\u001b[1;32m~\\.conda\\envs\\gotenkusu2\\lib\\site-packages\\urllib3\\connectionpool.py\u001b[0m in \u001b[0;36m_validate_conn\u001b[1;34m(self, conn)\u001b[0m\n\u001b[0;32m    975\u001b[0m         \u001b[1;32mif\u001b[0m \u001b[1;32mnot\u001b[0m \u001b[0mgetattr\u001b[0m\u001b[1;33m(\u001b[0m\u001b[0mconn\u001b[0m\u001b[1;33m,\u001b[0m \u001b[1;34m\"sock\"\u001b[0m\u001b[1;33m,\u001b[0m \u001b[1;32mNone\u001b[0m\u001b[1;33m)\u001b[0m\u001b[1;33m:\u001b[0m  \u001b[1;31m# AppEngine might not have  `.sock`\u001b[0m\u001b[1;33m\u001b[0m\u001b[1;33m\u001b[0m\u001b[0m\n\u001b[1;32m--> 976\u001b[1;33m             \u001b[0mconn\u001b[0m\u001b[1;33m.\u001b[0m\u001b[0mconnect\u001b[0m\u001b[1;33m(\u001b[0m\u001b[1;33m)\u001b[0m\u001b[1;33m\u001b[0m\u001b[1;33m\u001b[0m\u001b[0m\n\u001b[0m\u001b[0;32m    977\u001b[0m \u001b[1;33m\u001b[0m\u001b[0m\n",
      "\u001b[1;32m~\\.conda\\envs\\gotenkusu2\\lib\\site-packages\\urllib3\\connection.py\u001b[0m in \u001b[0;36mconnect\u001b[1;34m(self)\u001b[0m\n\u001b[0;32m    369\u001b[0m             \u001b[0mserver_hostname\u001b[0m\u001b[1;33m=\u001b[0m\u001b[0mserver_hostname\u001b[0m\u001b[1;33m,\u001b[0m\u001b[1;33m\u001b[0m\u001b[1;33m\u001b[0m\u001b[0m\n\u001b[1;32m--> 370\u001b[1;33m             \u001b[0mssl_context\u001b[0m\u001b[1;33m=\u001b[0m\u001b[0mcontext\u001b[0m\u001b[1;33m,\u001b[0m\u001b[1;33m\u001b[0m\u001b[1;33m\u001b[0m\u001b[0m\n\u001b[0m\u001b[0;32m    371\u001b[0m         )\n",
      "\u001b[1;32m~\\.conda\\envs\\gotenkusu2\\lib\\site-packages\\urllib3\\util\\ssl_.py\u001b[0m in \u001b[0;36mssl_wrap_socket\u001b[1;34m(sock, keyfile, certfile, cert_reqs, ca_certs, server_hostname, ssl_version, ciphers, ssl_context, ca_cert_dir, key_password, ca_cert_data)\u001b[0m\n\u001b[0;32m    376\u001b[0m         \u001b[1;32mif\u001b[0m \u001b[0mHAS_SNI\u001b[0m \u001b[1;32mand\u001b[0m \u001b[0mserver_hostname\u001b[0m \u001b[1;32mis\u001b[0m \u001b[1;32mnot\u001b[0m \u001b[1;32mNone\u001b[0m\u001b[1;33m:\u001b[0m\u001b[1;33m\u001b[0m\u001b[1;33m\u001b[0m\u001b[0m\n\u001b[1;32m--> 377\u001b[1;33m             \u001b[1;32mreturn\u001b[0m \u001b[0mcontext\u001b[0m\u001b[1;33m.\u001b[0m\u001b[0mwrap_socket\u001b[0m\u001b[1;33m(\u001b[0m\u001b[0msock\u001b[0m\u001b[1;33m,\u001b[0m \u001b[0mserver_hostname\u001b[0m\u001b[1;33m=\u001b[0m\u001b[0mserver_hostname\u001b[0m\u001b[1;33m)\u001b[0m\u001b[1;33m\u001b[0m\u001b[1;33m\u001b[0m\u001b[0m\n\u001b[0m\u001b[0;32m    378\u001b[0m \u001b[1;33m\u001b[0m\u001b[0m\n",
      "\u001b[1;32m~\\.conda\\envs\\gotenkusu2\\lib\\ssl.py\u001b[0m in \u001b[0;36mwrap_socket\u001b[1;34m(self, sock, server_side, do_handshake_on_connect, suppress_ragged_eofs, server_hostname, session)\u001b[0m\n\u001b[0;32m    422\u001b[0m             \u001b[0mcontext\u001b[0m\u001b[1;33m=\u001b[0m\u001b[0mself\u001b[0m\u001b[1;33m,\u001b[0m\u001b[1;33m\u001b[0m\u001b[1;33m\u001b[0m\u001b[0m\n\u001b[1;32m--> 423\u001b[1;33m             \u001b[0msession\u001b[0m\u001b[1;33m=\u001b[0m\u001b[0msession\u001b[0m\u001b[1;33m\u001b[0m\u001b[1;33m\u001b[0m\u001b[0m\n\u001b[0m\u001b[0;32m    424\u001b[0m         )\n",
      "\u001b[1;32m~\\.conda\\envs\\gotenkusu2\\lib\\ssl.py\u001b[0m in \u001b[0;36m_create\u001b[1;34m(cls, sock, server_side, do_handshake_on_connect, suppress_ragged_eofs, server_hostname, context, session)\u001b[0m\n\u001b[0;32m    869\u001b[0m                         \u001b[1;32mraise\u001b[0m \u001b[0mValueError\u001b[0m\u001b[1;33m(\u001b[0m\u001b[1;34m\"do_handshake_on_connect should not be specified for non-blocking sockets\"\u001b[0m\u001b[1;33m)\u001b[0m\u001b[1;33m\u001b[0m\u001b[1;33m\u001b[0m\u001b[0m\n\u001b[1;32m--> 870\u001b[1;33m                     \u001b[0mself\u001b[0m\u001b[1;33m.\u001b[0m\u001b[0mdo_handshake\u001b[0m\u001b[1;33m(\u001b[0m\u001b[1;33m)\u001b[0m\u001b[1;33m\u001b[0m\u001b[1;33m\u001b[0m\u001b[0m\n\u001b[0m\u001b[0;32m    871\u001b[0m             \u001b[1;32mexcept\u001b[0m \u001b[1;33m(\u001b[0m\u001b[0mOSError\u001b[0m\u001b[1;33m,\u001b[0m \u001b[0mValueError\u001b[0m\u001b[1;33m)\u001b[0m\u001b[1;33m:\u001b[0m\u001b[1;33m\u001b[0m\u001b[1;33m\u001b[0m\u001b[0m\n",
      "\u001b[1;32m~\\.conda\\envs\\gotenkusu2\\lib\\ssl.py\u001b[0m in \u001b[0;36mdo_handshake\u001b[1;34m(self, block)\u001b[0m\n\u001b[0;32m   1138\u001b[0m                 \u001b[0mself\u001b[0m\u001b[1;33m.\u001b[0m\u001b[0msettimeout\u001b[0m\u001b[1;33m(\u001b[0m\u001b[1;32mNone\u001b[0m\u001b[1;33m)\u001b[0m\u001b[1;33m\u001b[0m\u001b[1;33m\u001b[0m\u001b[0m\n\u001b[1;32m-> 1139\u001b[1;33m             \u001b[0mself\u001b[0m\u001b[1;33m.\u001b[0m\u001b[0m_sslobj\u001b[0m\u001b[1;33m.\u001b[0m\u001b[0mdo_handshake\u001b[0m\u001b[1;33m(\u001b[0m\u001b[1;33m)\u001b[0m\u001b[1;33m\u001b[0m\u001b[1;33m\u001b[0m\u001b[0m\n\u001b[0m\u001b[0;32m   1140\u001b[0m         \u001b[1;32mfinally\u001b[0m\u001b[1;33m:\u001b[0m\u001b[1;33m\u001b[0m\u001b[1;33m\u001b[0m\u001b[0m\n",
      "\u001b[1;31mSSLCertVerificationError\u001b[0m: [SSL: CERTIFICATE_VERIFY_FAILED] certificate verify failed: self signed certificate in certificate chain (_ssl.c:1076)",
      "\nDuring handling of the above exception, another exception occurred:\n",
      "\u001b[1;31mMaxRetryError\u001b[0m                             Traceback (most recent call last)",
      "\u001b[1;32m~\\.conda\\envs\\gotenkusu2\\lib\\site-packages\\requests\\adapters.py\u001b[0m in \u001b[0;36msend\u001b[1;34m(self, request, stream, timeout, verify, cert, proxies)\u001b[0m\n\u001b[0;32m    448\u001b[0m                     \u001b[0mretries\u001b[0m\u001b[1;33m=\u001b[0m\u001b[0mself\u001b[0m\u001b[1;33m.\u001b[0m\u001b[0mmax_retries\u001b[0m\u001b[1;33m,\u001b[0m\u001b[1;33m\u001b[0m\u001b[1;33m\u001b[0m\u001b[0m\n\u001b[1;32m--> 449\u001b[1;33m                     \u001b[0mtimeout\u001b[0m\u001b[1;33m=\u001b[0m\u001b[0mtimeout\u001b[0m\u001b[1;33m\u001b[0m\u001b[1;33m\u001b[0m\u001b[0m\n\u001b[0m\u001b[0;32m    450\u001b[0m                 )\n",
      "\u001b[1;32m~\\.conda\\envs\\gotenkusu2\\lib\\site-packages\\urllib3\\connectionpool.py\u001b[0m in \u001b[0;36murlopen\u001b[1;34m(self, method, url, body, headers, retries, redirect, assert_same_host, timeout, pool_timeout, release_conn, chunked, body_pos, **response_kw)\u001b[0m\n\u001b[0;32m    724\u001b[0m             retries = retries.increment(\n\u001b[1;32m--> 725\u001b[1;33m                 \u001b[0mmethod\u001b[0m\u001b[1;33m,\u001b[0m \u001b[0murl\u001b[0m\u001b[1;33m,\u001b[0m \u001b[0merror\u001b[0m\u001b[1;33m=\u001b[0m\u001b[0me\u001b[0m\u001b[1;33m,\u001b[0m \u001b[0m_pool\u001b[0m\u001b[1;33m=\u001b[0m\u001b[0mself\u001b[0m\u001b[1;33m,\u001b[0m \u001b[0m_stacktrace\u001b[0m\u001b[1;33m=\u001b[0m\u001b[0msys\u001b[0m\u001b[1;33m.\u001b[0m\u001b[0mexc_info\u001b[0m\u001b[1;33m(\u001b[0m\u001b[1;33m)\u001b[0m\u001b[1;33m[\u001b[0m\u001b[1;36m2\u001b[0m\u001b[1;33m]\u001b[0m\u001b[1;33m\u001b[0m\u001b[1;33m\u001b[0m\u001b[0m\n\u001b[0m\u001b[0;32m    726\u001b[0m             )\n",
      "\u001b[1;32m~\\.conda\\envs\\gotenkusu2\\lib\\site-packages\\urllib3\\util\\retry.py\u001b[0m in \u001b[0;36mincrement\u001b[1;34m(self, method, url, response, error, _pool, _stacktrace)\u001b[0m\n\u001b[0;32m    438\u001b[0m         \u001b[1;32mif\u001b[0m \u001b[0mnew_retry\u001b[0m\u001b[1;33m.\u001b[0m\u001b[0mis_exhausted\u001b[0m\u001b[1;33m(\u001b[0m\u001b[1;33m)\u001b[0m\u001b[1;33m:\u001b[0m\u001b[1;33m\u001b[0m\u001b[1;33m\u001b[0m\u001b[0m\n\u001b[1;32m--> 439\u001b[1;33m             \u001b[1;32mraise\u001b[0m \u001b[0mMaxRetryError\u001b[0m\u001b[1;33m(\u001b[0m\u001b[0m_pool\u001b[0m\u001b[1;33m,\u001b[0m \u001b[0murl\u001b[0m\u001b[1;33m,\u001b[0m \u001b[0merror\u001b[0m \u001b[1;32mor\u001b[0m \u001b[0mResponseError\u001b[0m\u001b[1;33m(\u001b[0m\u001b[0mcause\u001b[0m\u001b[1;33m)\u001b[0m\u001b[1;33m)\u001b[0m\u001b[1;33m\u001b[0m\u001b[1;33m\u001b[0m\u001b[0m\n\u001b[0m\u001b[0;32m    440\u001b[0m \u001b[1;33m\u001b[0m\u001b[0m\n",
      "\u001b[1;31mMaxRetryError\u001b[0m: HTTPSConnectionPool(host='m.media-amazon.com', port=443): Max retries exceeded with url: /images/I/61YC5v2tk7L._AC_UL320_.jpg (Caused by SSLError(SSLCertVerificationError(1, '[SSL: CERTIFICATE_VERIFY_FAILED] certificate verify failed: self signed certificate in certificate chain (_ssl.c:1076)')))",
      "\nDuring handling of the above exception, another exception occurred:\n",
      "\u001b[1;31mSSLError\u001b[0m                                  Traceback (most recent call last)",
      "\u001b[1;32m<ipython-input-14-9c11bfe026e2>\u001b[0m in \u001b[0;36m<module>\u001b[1;34m\u001b[0m\n\u001b[0;32m      6\u001b[0m \u001b[1;31m# print(soup.prettify())\u001b[0m\u001b[1;33m\u001b[0m\u001b[1;33m\u001b[0m\u001b[1;33m\u001b[0m\u001b[0m\n\u001b[0;32m      7\u001b[0m \u001b[1;32mfor\u001b[0m \u001b[0mimage_url\u001b[0m \u001b[1;32min\u001b[0m \u001b[0mlist\u001b[0m\u001b[1;33m(\u001b[0m\u001b[0mfilter\u001b[0m\u001b[1;33m(\u001b[0m\u001b[0mcheck_word\u001b[0m\u001b[1;33m(\u001b[0m\u001b[1;34m\"_AC_UL320_\"\u001b[0m\u001b[1;33m)\u001b[0m\u001b[1;33m,\u001b[0m \u001b[0mget_image\u001b[0m\u001b[1;33m(\u001b[0m\u001b[0msoup\u001b[0m\u001b[1;33m)\u001b[0m\u001b[1;33m)\u001b[0m\u001b[1;33m)\u001b[0m\u001b[1;33m:\u001b[0m\u001b[1;33m\u001b[0m\u001b[1;33m\u001b[0m\u001b[0m\n\u001b[1;32m----> 8\u001b[1;33m     \u001b[0mdownload\u001b[0m\u001b[1;33m(\u001b[0m\u001b[0mimage_url\u001b[0m\u001b[1;33m,\u001b[0m \u001b[1;34m\"imgs\"\u001b[0m\u001b[1;33m)\u001b[0m\u001b[1;33m\u001b[0m\u001b[1;33m\u001b[0m\u001b[0m\n\u001b[0m",
      "\u001b[1;32m~\\Documents\\GitHub\\website-memorability-prediction\\src\\downloader.py\u001b[0m in \u001b[0;36mdownload\u001b[1;34m(url, save_path)\u001b[0m\n\u001b[0;32m      2\u001b[0m \u001b[1;33m\u001b[0m\u001b[0m\n\u001b[0;32m      3\u001b[0m \u001b[1;32mdef\u001b[0m \u001b[0mdownload\u001b[0m\u001b[1;33m(\u001b[0m\u001b[0murl\u001b[0m\u001b[1;33m,\u001b[0m \u001b[0msave_path\u001b[0m\u001b[1;33m)\u001b[0m\u001b[1;33m:\u001b[0m\u001b[1;33m\u001b[0m\u001b[1;33m\u001b[0m\u001b[0m\n\u001b[1;32m----> 4\u001b[1;33m     \u001b[0mr\u001b[0m \u001b[1;33m=\u001b[0m \u001b[0mrequests\u001b[0m\u001b[1;33m.\u001b[0m\u001b[0mget\u001b[0m\u001b[1;33m(\u001b[0m\u001b[0murl\u001b[0m\u001b[1;33m,\u001b[0m \u001b[0mallow_redirects\u001b[0m\u001b[1;33m=\u001b[0m\u001b[1;32mTrue\u001b[0m\u001b[1;33m)\u001b[0m\u001b[1;33m\u001b[0m\u001b[1;33m\u001b[0m\u001b[0m\n\u001b[0m\u001b[0;32m      5\u001b[0m     \u001b[0m_\u001b[0m\u001b[1;33m,\u001b[0m \u001b[0mfile_name\u001b[0m \u001b[1;33m=\u001b[0m \u001b[0mos\u001b[0m\u001b[1;33m.\u001b[0m\u001b[0mpath\u001b[0m\u001b[1;33m.\u001b[0m\u001b[0msplit\u001b[0m\u001b[1;33m(\u001b[0m\u001b[0murl\u001b[0m\u001b[1;33m)\u001b[0m\u001b[1;33m\u001b[0m\u001b[1;33m\u001b[0m\u001b[0m\n\u001b[0;32m      6\u001b[0m     \u001b[1;32mif\u001b[0m \u001b[1;32mnot\u001b[0m \u001b[0mos\u001b[0m\u001b[1;33m.\u001b[0m\u001b[0mpath\u001b[0m\u001b[1;33m.\u001b[0m\u001b[0mexists\u001b[0m\u001b[1;33m(\u001b[0m\u001b[0msave_path\u001b[0m\u001b[1;33m)\u001b[0m\u001b[1;33m:\u001b[0m\u001b[1;33m\u001b[0m\u001b[1;33m\u001b[0m\u001b[0m\n",
      "\u001b[1;32m~\\.conda\\envs\\gotenkusu2\\lib\\site-packages\\requests\\api.py\u001b[0m in \u001b[0;36mget\u001b[1;34m(url, params, **kwargs)\u001b[0m\n\u001b[0;32m     74\u001b[0m \u001b[1;33m\u001b[0m\u001b[0m\n\u001b[0;32m     75\u001b[0m     \u001b[0mkwargs\u001b[0m\u001b[1;33m.\u001b[0m\u001b[0msetdefault\u001b[0m\u001b[1;33m(\u001b[0m\u001b[1;34m'allow_redirects'\u001b[0m\u001b[1;33m,\u001b[0m \u001b[1;32mTrue\u001b[0m\u001b[1;33m)\u001b[0m\u001b[1;33m\u001b[0m\u001b[1;33m\u001b[0m\u001b[0m\n\u001b[1;32m---> 76\u001b[1;33m     \u001b[1;32mreturn\u001b[0m \u001b[0mrequest\u001b[0m\u001b[1;33m(\u001b[0m\u001b[1;34m'get'\u001b[0m\u001b[1;33m,\u001b[0m \u001b[0murl\u001b[0m\u001b[1;33m,\u001b[0m \u001b[0mparams\u001b[0m\u001b[1;33m=\u001b[0m\u001b[0mparams\u001b[0m\u001b[1;33m,\u001b[0m \u001b[1;33m**\u001b[0m\u001b[0mkwargs\u001b[0m\u001b[1;33m)\u001b[0m\u001b[1;33m\u001b[0m\u001b[1;33m\u001b[0m\u001b[0m\n\u001b[0m\u001b[0;32m     77\u001b[0m \u001b[1;33m\u001b[0m\u001b[0m\n\u001b[0;32m     78\u001b[0m \u001b[1;33m\u001b[0m\u001b[0m\n",
      "\u001b[1;32m~\\.conda\\envs\\gotenkusu2\\lib\\site-packages\\requests\\api.py\u001b[0m in \u001b[0;36mrequest\u001b[1;34m(method, url, **kwargs)\u001b[0m\n\u001b[0;32m     59\u001b[0m     \u001b[1;31m# cases, and look like a memory leak in others.\u001b[0m\u001b[1;33m\u001b[0m\u001b[1;33m\u001b[0m\u001b[1;33m\u001b[0m\u001b[0m\n\u001b[0;32m     60\u001b[0m     \u001b[1;32mwith\u001b[0m \u001b[0msessions\u001b[0m\u001b[1;33m.\u001b[0m\u001b[0mSession\u001b[0m\u001b[1;33m(\u001b[0m\u001b[1;33m)\u001b[0m \u001b[1;32mas\u001b[0m \u001b[0msession\u001b[0m\u001b[1;33m:\u001b[0m\u001b[1;33m\u001b[0m\u001b[1;33m\u001b[0m\u001b[0m\n\u001b[1;32m---> 61\u001b[1;33m         \u001b[1;32mreturn\u001b[0m \u001b[0msession\u001b[0m\u001b[1;33m.\u001b[0m\u001b[0mrequest\u001b[0m\u001b[1;33m(\u001b[0m\u001b[0mmethod\u001b[0m\u001b[1;33m=\u001b[0m\u001b[0mmethod\u001b[0m\u001b[1;33m,\u001b[0m \u001b[0murl\u001b[0m\u001b[1;33m=\u001b[0m\u001b[0murl\u001b[0m\u001b[1;33m,\u001b[0m \u001b[1;33m**\u001b[0m\u001b[0mkwargs\u001b[0m\u001b[1;33m)\u001b[0m\u001b[1;33m\u001b[0m\u001b[1;33m\u001b[0m\u001b[0m\n\u001b[0m\u001b[0;32m     62\u001b[0m \u001b[1;33m\u001b[0m\u001b[0m\n\u001b[0;32m     63\u001b[0m \u001b[1;33m\u001b[0m\u001b[0m\n",
      "\u001b[1;32m~\\.conda\\envs\\gotenkusu2\\lib\\site-packages\\requests\\sessions.py\u001b[0m in \u001b[0;36mrequest\u001b[1;34m(self, method, url, params, data, headers, cookies, files, auth, timeout, allow_redirects, proxies, hooks, stream, verify, cert, json)\u001b[0m\n\u001b[0;32m    528\u001b[0m         }\n\u001b[0;32m    529\u001b[0m         \u001b[0msend_kwargs\u001b[0m\u001b[1;33m.\u001b[0m\u001b[0mupdate\u001b[0m\u001b[1;33m(\u001b[0m\u001b[0msettings\u001b[0m\u001b[1;33m)\u001b[0m\u001b[1;33m\u001b[0m\u001b[1;33m\u001b[0m\u001b[0m\n\u001b[1;32m--> 530\u001b[1;33m         \u001b[0mresp\u001b[0m \u001b[1;33m=\u001b[0m \u001b[0mself\u001b[0m\u001b[1;33m.\u001b[0m\u001b[0msend\u001b[0m\u001b[1;33m(\u001b[0m\u001b[0mprep\u001b[0m\u001b[1;33m,\u001b[0m \u001b[1;33m**\u001b[0m\u001b[0msend_kwargs\u001b[0m\u001b[1;33m)\u001b[0m\u001b[1;33m\u001b[0m\u001b[1;33m\u001b[0m\u001b[0m\n\u001b[0m\u001b[0;32m    531\u001b[0m \u001b[1;33m\u001b[0m\u001b[0m\n\u001b[0;32m    532\u001b[0m         \u001b[1;32mreturn\u001b[0m \u001b[0mresp\u001b[0m\u001b[1;33m\u001b[0m\u001b[1;33m\u001b[0m\u001b[0m\n",
      "\u001b[1;32m~\\.conda\\envs\\gotenkusu2\\lib\\site-packages\\requests\\sessions.py\u001b[0m in \u001b[0;36msend\u001b[1;34m(self, request, **kwargs)\u001b[0m\n\u001b[0;32m    641\u001b[0m \u001b[1;33m\u001b[0m\u001b[0m\n\u001b[0;32m    642\u001b[0m         \u001b[1;31m# Send the request\u001b[0m\u001b[1;33m\u001b[0m\u001b[1;33m\u001b[0m\u001b[1;33m\u001b[0m\u001b[0m\n\u001b[1;32m--> 643\u001b[1;33m         \u001b[0mr\u001b[0m \u001b[1;33m=\u001b[0m \u001b[0madapter\u001b[0m\u001b[1;33m.\u001b[0m\u001b[0msend\u001b[0m\u001b[1;33m(\u001b[0m\u001b[0mrequest\u001b[0m\u001b[1;33m,\u001b[0m \u001b[1;33m**\u001b[0m\u001b[0mkwargs\u001b[0m\u001b[1;33m)\u001b[0m\u001b[1;33m\u001b[0m\u001b[1;33m\u001b[0m\u001b[0m\n\u001b[0m\u001b[0;32m    644\u001b[0m \u001b[1;33m\u001b[0m\u001b[0m\n\u001b[0;32m    645\u001b[0m         \u001b[1;31m# Total elapsed time of the request (approximately)\u001b[0m\u001b[1;33m\u001b[0m\u001b[1;33m\u001b[0m\u001b[1;33m\u001b[0m\u001b[0m\n",
      "\u001b[1;32m~\\.conda\\envs\\gotenkusu2\\lib\\site-packages\\requests\\adapters.py\u001b[0m in \u001b[0;36msend\u001b[1;34m(self, request, stream, timeout, verify, cert, proxies)\u001b[0m\n\u001b[0;32m    512\u001b[0m             \u001b[1;32mif\u001b[0m \u001b[0misinstance\u001b[0m\u001b[1;33m(\u001b[0m\u001b[0me\u001b[0m\u001b[1;33m.\u001b[0m\u001b[0mreason\u001b[0m\u001b[1;33m,\u001b[0m \u001b[0m_SSLError\u001b[0m\u001b[1;33m)\u001b[0m\u001b[1;33m:\u001b[0m\u001b[1;33m\u001b[0m\u001b[1;33m\u001b[0m\u001b[0m\n\u001b[0;32m    513\u001b[0m                 \u001b[1;31m# This branch is for urllib3 v1.22 and later.\u001b[0m\u001b[1;33m\u001b[0m\u001b[1;33m\u001b[0m\u001b[1;33m\u001b[0m\u001b[0m\n\u001b[1;32m--> 514\u001b[1;33m                 \u001b[1;32mraise\u001b[0m \u001b[0mSSLError\u001b[0m\u001b[1;33m(\u001b[0m\u001b[0me\u001b[0m\u001b[1;33m,\u001b[0m \u001b[0mrequest\u001b[0m\u001b[1;33m=\u001b[0m\u001b[0mrequest\u001b[0m\u001b[1;33m)\u001b[0m\u001b[1;33m\u001b[0m\u001b[1;33m\u001b[0m\u001b[0m\n\u001b[0m\u001b[0;32m    515\u001b[0m \u001b[1;33m\u001b[0m\u001b[0m\n\u001b[0;32m    516\u001b[0m             \u001b[1;32mraise\u001b[0m \u001b[0mConnectionError\u001b[0m\u001b[1;33m(\u001b[0m\u001b[0me\u001b[0m\u001b[1;33m,\u001b[0m \u001b[0mrequest\u001b[0m\u001b[1;33m=\u001b[0m\u001b[0mrequest\u001b[0m\u001b[1;33m)\u001b[0m\u001b[1;33m\u001b[0m\u001b[1;33m\u001b[0m\u001b[0m\n",
      "\u001b[1;31mSSLError\u001b[0m: HTTPSConnectionPool(host='m.media-amazon.com', port=443): Max retries exceeded with url: /images/I/61YC5v2tk7L._AC_UL320_.jpg (Caused by SSLError(SSLCertVerificationError(1, '[SSL: CERTIFICATE_VERIFY_FAILED] certificate verify failed: self signed certificate in certificate chain (_ssl.c:1076)')))"
     ]
    }
   ],
   "source": [
    "keyword = \"gadget electronique\"\n",
    "page = \"2\"\n",
    "url = \"https://www.amazon.fr/s?k={}&page={}&__mk_fr_FR=%C3%85M%C3%85%C5%BD%C3%95%C3%91&ref=sr_pg_{}\".format(keyword, page, page)\n",
    "\n",
    "soup = BeautifulSoup(get_html(url))\n",
    "# print(soup.prettify())\n",
    "for image_url in list(filter(check_word(\"_AC_UL320_\"), get_image(soup))):\n",
    "    download(image_url, \"imgs\")"
   ]
  },
  {
   "cell_type": "code",
   "execution_count": 2,
   "metadata": {},
   "outputs": [],
   "source": [
    "import os, requests, time, shutil, glob, bz2, imgkit, re\n",
    "import numpy as np\n",
    "from PIL import Image\n",
    "from multiprocessing.dummy import Pool\n",
    "from src.azurekey import *\n",
    "from src.downloader import download\n",
    "\n",
    "headers = {\n",
    "    'Access-Control-Allow-Origin': '*',\n",
    "    'Access-Control-Allow-Methods': 'GET',\n",
    "    'Access-Control-Allow-Headers': 'Content-Type',\n",
    "    'Access-Control-Max-Age': '3600',\n",
    "    'User-Agent': 'Mozilla/5.0 (X11; Ubuntu; Linux x86_64; rv:52.0) Gecko/20100101 Firefox/52.0'\n",
    "}\n",
    "\n",
    "def search(search_term, azureKey, offset=0):\n",
    "    # print('searching using bing: \"'+search_term+'\"')\n",
    "    search_url = \"https://api.bing.microsoft.com/v7.0/search\"\n",
    "    subscription_key = azureKey\n",
    "    assert subscription_key\n",
    "    headers = {\"Ocp-Apim-Subscription-Key\" : subscription_key}\n",
    "    params  = {\"q\": search_term, \"responseFilter\": \"Webpages\",\"count\":50, \"offset\":offset, \"safeSearch\":\"Strict\"}\n",
    "    response = requests.get(search_url, headers=headers, params=params)\n",
    "    response.raise_for_status()\n",
    "    search_results = response.json()\n",
    "    return [v[\"url\"] for v in search_results[\"webPages\"][\"value\"]]\n",
    "\n",
    "def clean(html):\n",
    "    html_temp = re.sub('href=\".*?\"', 'href=\"\"', html)\n",
    "    html_temp = re.sub('src=\".*?\"', 'src=\"\"', html_temp)\n",
    "    html_temp = re.sub('<script.*?/script>', '', html_temp)\n",
    "    return html_temp\n",
    "\n",
    "def save_html2jpg(url, dir_name):\n",
    "    if not os.path.exists(dir_name):\n",
    "        os.mkdir(dir_name)\n",
    "    req = requests.get(url, headers=headers)\n",
    "    imgkit.from_string(clean(req.text), os.path.join(dir_name, str(hash(url))+\".jpg\"))\n",
    "\n",
    "\n",
    "# def download(links_in, dir_name, n=None, log=set()):\n",
    "#     links = links_in[:n]\n",
    "#     # print('search results',len(links)\n",
    "#     if not os.path.exists(dir_name):\n",
    "#         os.mkdir(dir_name)\n",
    "\n",
    "#     def fetch(url, log=log):\n",
    "#         r=requests.get(url[0], stream=True)\n",
    "#         r.raw.decode_content = True # handle spurious Content-Encoding\n",
    "#         img = Image.open(r.raw)\n",
    "#         bits = str(imagehash.average_hash(img))\n",
    "#         if bits not in log:\n",
    "#             log |= set([bits])\n",
    "#         if len(log) % 100 == 0:\n",
    "#             print(\"{} images saved.\".format(len(log)))\n",
    "#         img_file = dir_name+'/commercial_product_'+bits+\".jpg\"\n",
    "#         img.save(img_file)\n",
    "        \n",
    "\n",
    "#     modLinks=[[links[i],i+1] for i in range(len(links))]\n",
    "#     Pool(10).map(fetch, modLinks)\n",
    "\n",
    "#     return log"
   ]
  },
  {
   "cell_type": "code",
   "execution_count": 16,
   "metadata": {},
   "outputs": [],
   "source": [
    "search_results = search(\"electronics\", azureKey, offset=0)"
   ]
  },
  {
   "cell_type": "code",
   "execution_count": 121,
   "metadata": {},
   "outputs": [],
   "source": [
    "url = \"https://www.google.com/\"\n",
    "req = requests.get(url, headers=headers)\n",
    "# imgkit.from_url(url, os.path.join(\"webpages\", str(hash(url))+\".jpg\"))"
   ]
  },
  {
   "cell_type": "code",
   "execution_count": 122,
   "metadata": {},
   "outputs": [],
   "source": [
    "def repair_link(html, url):\n",
    "#     html_temp = re.sub('href=\"/', 'href=\"{}'.format(url), html)\n",
    "#     html_temp = re.sub('src=\"/', 'src=\"{}'.format(url), html_temp)\n",
    "#     html_temp = re.sub(\"url\\(/\", \"url({}\".format(url), html_temp)\n",
    "#     html_temp = re.sub('poster=\"/', 'poster=\"{}'.format(url), html_temp)\n",
    "#     html_temp = re.sub('srcset=\"/', 'srcset=\"{}'.format(url), html_temp)\n",
    "    html_temp = re.sub('\"/([^/\"][^<\"]*?)\"', r'\"{}\\1\"'.format(url), html)\n",
    "    html_temp = re.sub(\"'/([^/'][^<']*?)'\", r'\"{}\\1\"'.format(url), html_temp)\n",
    "    html_temp = re.sub(\"url\\(/\", \"url({}\".format(url), html_temp)\n",
    "    return html_temp"
   ]
  },
  {
   "cell_type": "code",
   "execution_count": 123,
   "metadata": {},
   "outputs": [],
   "source": [
    "with open(\"webpages/test.html\", \"w\") as f:\n",
    "#     f.write(req.text)\n",
    "    f.write(repair_link(req.text, url))"
   ]
  },
  {
   "cell_type": "code",
   "execution_count": 142,
   "metadata": {},
   "outputs": [
    {
     "data": {
      "text/plain": [
       "['/images/branding/googleg/1x/googleg_standard_color_128dp.png',\n",
       " '//ssl.gstatic.com/gb/images/i1_1967ca6a.png',\n",
       " '//ssl.gstatic.com/gb/images/i2_2ec824b0.png',\n",
       " '/images/experiments/wavy-underline.png',\n",
       " '/images/searchbox/desktop_searchbox_sprites302_hr.png',\n",
       " '/images/searchbox/desktop_searchbox_sprites302_hr.png',\n",
       " '/images/searchbox/desktop_searchbox_sprites302_hr.png',\n",
       " '/images/branding/googlelogo/2x/googlelogo_color_272x92dp.png',\n",
       " '/images/branding/googlelogo/1x/googlelogo_color_272x92dp.png',\n",
       " '/images/branding/googlelogo/2x/googlelogo_color_272x92dp.png',\n",
       " 'https://ssl.gstatic.com/gb/images/p2_8e348e57.png',\n",
       " '//ssl.gstatic.com/gb/images/i1_1967ca6a.png',\n",
       " '//ssl.gstatic.com/gb/images/i2_2ec824b0.png',\n",
       " '/images/nav_logo299.png']"
      ]
     },
     "execution_count": 142,
     "metadata": {},
     "output_type": "execute_result"
    }
   ],
   "source": [
    "re.findall('[^ \\'()\"]*?\\.png', req.text)"
   ]
  },
  {
   "cell_type": "code",
   "execution_count": 188,
   "metadata": {},
   "outputs": [],
   "source": [
    "def download(url, temp_dir, webpage_dir):\n",
    "    save_path = webpage_dir + \"/\" + temp_dir\n",
    "    r = requests.get(url, allow_redirects=True, headers=headers)\n",
    "    file_name = os.path.split(url)[-1]\n",
    "    print(file_name)\n",
    "    if not os.path.exists(save_path):\n",
    "        os.makedirs(save_path)\n",
    "    save_file_path = save_path + \"/\" + file_name\n",
    "    open(save_file_path, 'wb').write(r.content)\n",
    "    return temp_dir + \"/\" + file_name\n",
    "\n",
    "def download_all(link_list, url, log, temp_dir=\"temp\", webpage_dir=\"webpages\"):\n",
    "    for link in link_list:\n",
    "        if link in log:\n",
    "            continue\n",
    "        if link.startswith(\"http\"):\n",
    "            log[link] = download(link, temp_dir, webpage_dir)\n",
    "        elif link.startswith(\"//\"):\n",
    "            try:\n",
    "                log[link] = download(\"https:\" + link, temp_dir, webpage_dir)\n",
    "            except:\n",
    "                pass\n",
    "        elif link.startswith(\"/\"):\n",
    "            link_temp = url+link[1:]\n",
    "            log[link] = download(link_temp, temp_dir, webpage_dir)\n",
    "    return log\n",
    "\n",
    "def replace_all(html, log):\n",
    "    html_temp = html\n",
    "    for e, v in log.items():\n",
    "        html_temp = re.sub(e, v, html_temp)\n",
    "    return html_temp"
   ]
  },
  {
   "cell_type": "code",
   "execution_count": 189,
   "metadata": {},
   "outputs": [],
   "source": [
    "url = \"https://www.accenture.com/\"\n",
    "req = requests.get(url, headers=headers)"
   ]
  },
  {
   "cell_type": "code",
   "execution_count": 190,
   "metadata": {},
   "outputs": [
    {
     "name": "stdout",
     "output_type": "stream",
     "text": [
      "Accenture-Living-Business-Twitter.png\n",
      "Accenture-Homepage-Image-400x400.jpg\n",
      "Accenture-Home-Social-Image.jpg\n",
      "France.jpg\n",
      "Accenture-we-act-for-impact-1920x1080.jpg\n",
      "70a2765e-e451-4bb1-83dd-6e13d136a97f.js\n",
      "otSDKStub.js\n",
      "wDq4Hx70.min.js\n",
      "launch-EN664f8f34ad5946f8a0f7914005f717cf.min.js\n",
      "ip.js\n",
      "embed.js\n",
      "ScrollMagic.min.js\n",
      "debug.addIndicators.min.js\n",
      "gsap.min.js\n",
      "TweenLite.min.js\n",
      "TweenMax.min.js\n",
      "slick.js\n",
      "ionicons.js\n",
      "quick-fix-js.js\n",
      "quick-fix-css.css\n",
      "slick.css\n",
      "slick-theme.css\n",
      "ip.json\n"
     ]
    }
   ],
   "source": [
    "log = {}\n",
    "log = download_all(re.findall('[^ \\'()\"]*?\\.png', req.text), url, log, temp_dir=\"temp\")\n",
    "log = download_all(re.findall('[^ \\'()\"]*?\\.jpg', req.text), url, log, temp_dir=\"temp\")\n",
    "log = download_all(re.findall('[^ \\'()\"]*?\\.js', req.text), url, log, temp_dir=\"temp\")\n",
    "log = download_all(re.findall('[^ \\'()\"]*?\\.css', req.text), url, log, temp_dir=\"temp\")\n",
    "log = download_all(re.findall('[^ \\'()\"]*?\\.json', req.text), url, log, temp_dir=\"temp\")"
   ]
  },
  {
   "cell_type": "code",
   "execution_count": 191,
   "metadata": {},
   "outputs": [],
   "source": [
    "with open(\"webpages/test.html\", \"w\") as f:\n",
    "    f.write(replace_all(req.text, log))"
   ]
  },
  {
   "cell_type": "code",
   "execution_count": 19,
   "metadata": {},
   "outputs": [
    {
     "data": {
      "text/plain": [
       "<Response [403]>"
      ]
     },
     "execution_count": 19,
     "metadata": {},
     "output_type": "execute_result"
    }
   ],
   "source": [
    "r"
   ]
  },
  {
   "cell_type": "code",
   "execution_count": 20,
   "metadata": {},
   "outputs": [],
   "source": [
    "search_url = \"https://api.apiflash.com/v1/urltoimage?access_key=37bc0ab0376f4a33b4bac2e7a47776c4&format=jpeg&height=1920&js=(function%20(global%2C%20factory)%20%7B%0A%20%20%20%20typeof%20exports%20%3D%3D%3D%20'object'%20%26%26%20typeof%20module%20!%3D%3D%20'undefined'%20%3F%20module.exports%20%3D%20factory()%20%3A%0A%20%20%20%20typeof%20define%20%3D%3D%3D%20'function'%20%26%26%20define.amd%20%3F%20define(factory)%20%3A%0A%20%20%20%20(global%20%3D%20typeof%20globalThis%20!%3D%3D%20'undefined'%20%3F%20globalThis%20%3A%20global%20%7C%7C%20self%2C%20global.blurify%20%3D%20factory())%3B%0A%7D(this%2C%20(function%20()%20%7B%20'use%20strict'%3B%0A%0A%20%20%20%20function%20preload(images)%20%7B%0A%20%20%20%20%20%20%20%20var%20imageNodes%20%3D%20%5B%5D%3B%0A%20%20%20%20%20%20%20%20var%20count%20%3D%200%2C%20doneAction%20%3D%20function%20(images)%20%7B%20%7D%3B%0A%20%20%20%20%20%20%20%20images%20%3D%20(typeof%20images%20!%3D%20'object')%20%3F%20%5Bimages%5D%20%3A%20images%3B%0A%20%20%20%20%20%20%20%20images.length%20%3D%3D%3D%200%20%26%26%20doneAction(imageNodes)%3B%0A%20%20%20%20%20%20%20%20images.map(function%20(image)%20%7B%0A%20%20%20%20%20%20%20%20%20%20%20%20var%20_image%20%3D%20new%20Image()%3B%0A%20%20%20%20%20%20%20%20%20%20%20%20_image.crossOrigin%20%3D%20'*'%3B%0A%20%20%20%20%20%20%20%20%20%20%20%20console.log(image.dataset.src)%3B%0A%20%20%20%20%20%20%20%20%20%20%20%20_image.src%20%3D%20image.dataset%20%3F%20image.dataset.src%20%3A%20image.getAttribute('src')%3B%0A%20%20%20%20%20%20%20%20%20%20%20%20_image.onload%20%3D%20imageLoad%3B%0A%20%20%20%20%20%20%20%20%20%20%20%20_image.onerror%20%3D%20imageLoad%3B%0A%20%20%20%20%20%20%20%20%20%20%20%20imageNodes.push(_image)%3B%0A%20%20%20%20%20%20%20%20%7D)%3B%0A%20%20%20%20%20%20%20%20function%20imageLoad()%20%7B%0A%20%20%20%20%20%20%20%20%20%20%20%20count%2B%2B%3B%0A%20%20%20%20%20%20%20%20%20%20%20%20if%20(count%20%3D%3D%20images.length)%0A%20%20%20%20%20%20%20%20%20%20%20%20%20%20%20%20doneAction(imageNodes)%3B%0A%20%20%20%20%20%20%20%20%7D%0A%20%20%20%20%20%20%20%20return%20%7B%0A%20%20%20%20%20%20%20%20%20%20%20%20done%3A%20function%20(cb)%20%7B%0A%20%20%20%20%20%20%20%20%20%20%20%20%20%20%20%20doneAction%20%3D%20arguments%5B0%5D%20%7C%7C%20doneAction%3B%0A%20%20%20%20%20%20%20%20%20%20%20%20%7D%2C%0A%20%20%20%20%20%20%20%20%7D%3B%0A%20%20%20%20%7D%0A%20%20%20%20function%20cssSupport(key%2C%20value)%20%7B%0A%20%20%20%20%20%20%20%20var%20element%20%3D%20document.createElement('div')%3B%0A%20%20%20%20%20%20%20%20switch%20(arguments.length)%20%7B%0A%20%20%20%20%20%20%20%20%20%20%20%20case%201%3A%0A%20%20%20%20%20%20%20%20%20%20%20%20%20%20%20%20return%20key%20in%20element.style%20%3F%20true%20%3A%20false%3B%0A%20%20%20%20%20%20%20%20%20%20%20%20case%202%3A%0A%20%20%20%20%20%20%20%20%20%20%20%20%20%20%20%20element.style%5Bkey%5D%20%3D%20value%3B%0A%20%20%20%20%20%20%20%20%20%20%20%20%20%20%20%20return%20element.style%5Bkey%5D%20%3F%20true%20%3A%20false%3B%0A%20%20%20%20%20%20%20%20%20%20%20%20default%3A%0A%20%20%20%20%20%20%20%20%20%20%20%20%20%20%20%20return%20false%3B%0A%20%20%20%20%20%20%20%20%7D%0A%20%20%20%20%7D%0A%0A%20%20%20%20function%20blurify(options)%20%7B%0A%20%20%20%20%20%20%20%20if%20(options%20%3D%3D%3D%20void%200)%20%7B%20options%20%3D%20%7B%0A%20%20%20%20%20%20%20%20%20%20%20%20blur%3A%206%2C%0A%20%20%20%20%20%20%20%20%20%20%20%20mode%3A%20'auto'%2C%0A%20%20%20%20%20%20%20%20%20%20%20%20images%3A%20%5B%5D%2C%0A%20%20%20%20%20%20%20%20%7D%3B%20%7D%0A%20%20%20%20%20%20%20%20if%20(!(this%20instanceof%20blurify))%0A%20%20%20%20%20%20%20%20%20%20%20%20return%20new%20blurify(options)%3B%0A%20%20%20%20%20%20%20%20if%20(typeof%20options%20%3D%3D%3D%20'number')%20%7B%0A%20%20%20%20%20%20%20%20%20%20%20%20options%20%3D%20%7B%0A%20%20%20%20%20%20%20%20%20%20%20%20%20%20%20%20blur%3A%20options%2C%0A%20%20%20%20%20%20%20%20%20%20%20%20%20%20%20%20images%3A%20arguments%5B1%5D%2C%0A%20%20%20%20%20%20%20%20%20%20%20%20%20%20%20%20mode%3A%20'auto'%2C%0A%20%20%20%20%20%20%20%20%20%20%20%20%7D%3B%0A%20%20%20%20%20%20%20%20%7D%0A%20%20%20%20%20%20%20%20this.options%20%3D%20options%3B%0A%20%20%20%20%20%20%20%20this.blur%20%3D%20options.blur%20%7C%7C%206%3B%0A%20%20%20%20%20%20%20%20this.mode%20%3D%20options.mode%20%7C%7C%20'css'%3B%0A%20%20%20%20%20%20%20%20%2F%2F%20%40ts-ignore%0A%20%20%20%20%20%20%20%20console.log(options.images)%3B%0A%20%20%20%20%20%20%20%20this.%24els%20%3D%20options.images.nodeType%20%3D%3D%201%20%3F%20%5Boptions.images%5D%20%3A%20%5B%5D.slice.call(options.images)%3B%0A%20%20%20%20%20%20%20%20if%20(this.mode%20%3D%3D%20'auto')%20%7B%0A%20%20%20%20%20%20%20%20%20%20%20%20cssSupport('filter'%2C%20'blur(1px)')%20%3F%20this.useCSSMode()%20%3A%20this.useCanvasMode()%3B%0A%20%20%20%20%20%20%20%20%7D%0A%20%20%20%20%20%20%20%20else%20if%20(this.mode%20%3D%3D%20'css')%20%7B%0A%20%20%20%20%20%20%20%20%20%20%20%20this.blur%20%3D%20this.blur%20%2F%202%3B%0A%20%20%20%20%20%20%20%20%20%20%20%20this.useCSSMode()%3B%0A%20%20%20%20%20%20%20%20%7D%0A%20%20%20%20%20%20%20%20else%20%7B%0A%20%20%20%20%20%20%20%20%20%20%20%20this.useCanvasMode()%3B%0A%20%20%20%20%20%20%20%20%7D%0A%20%20%20%20%7D%0A%20%20%20%20blurify.prototype.useCSSMode%20%3D%20function%20()%20%7B%0A%20%20%20%20%20%20%20%20var%20_this%20%3D%20this%3B%0A%20%20%20%20%20%20%20%20console.log(this.%24els)%3B%0A%20%20%20%20%20%20%20%20this.%24els.map(function%20(el)%20%7B%0A%20%20%20%20%20%20%20%20%20%20%20%20console.log('el'%2C%20el)%3B%0A%20%20%20%20%20%20%20%20%20%20%20%20%2F%2F%20el.src%20%3D%20el.dataset%20%3F%20el.dataset.src%20%3A%20el.getAttribute('src')%3B%0A%20%20%20%20%20%20%20%20%20%20%20%20el.style%5B'filter'%5D%20%3D%20el.style%5B'-webkit-filter'%5D%20%3D%20%22blur(%22%20%2B%20_this.blur%20%2B%20%22px)%22%3B%0A%20%20%20%20%20%20%20%20%7D)%3B%0A%20%20%20%20%7D%3B%0A%20%20%20%20blurify.prototype.useCanvasMode%20%3D%20function%20()%20%7B%0A%20%20%20%20%20%20%20%20var%20_this%20%3D%20this%3B%0A%20%20%20%20%20%20%20%20this.imageType%20%3D%20this.options.imageType%20%7C%7C%20%22image%2Fjpeg%22%3B%0A%20%20%20%20%20%20%20%20preload(this.%24els).done(function%20(images)%20%7B%0A%20%20%20%20%20%20%20%20%20%20%20%20images.map(function%20(image%2C%20index)%20%7B%0A%20%20%20%20%20%20%20%20%20%20%20%20%20%20%20%20_this.%24els%5Bindex%5D.src%20%3D%20_this.getDataURL(image)%3B%0A%20%20%20%20%20%20%20%20%20%20%20%20%7D)%3B%0A%20%20%20%20%20%20%20%20%7D)%3B%0A%20%20%20%20%7D%3B%0A%20%20%20%20blurify.prototype.blurify%20%3D%20function%20(canvas%2C%20blur)%20%7B%0A%20%20%20%20%20%20%20%20var%20ctx%20%3D%20canvas.getContext('2d')%3B%0A%20%20%20%20%20%20%20%20ctx.globalAlpha%20%3D%201%20%2F%20(2%20*%20%2Bblur)%3B%0A%20%20%20%20%20%20%20%20for%20(var%20y%20%3D%20-blur%3B%20y%20%3C%3D%20blur%3B%20y%20%2B%3D%202)%20%7B%0A%20%20%20%20%20%20%20%20%20%20%20%20for%20(var%20x%20%3D%20-blur%3B%20x%20%3C%3D%20blur%3B%20x%20%2B%3D%202)%20%7B%0A%20%20%20%20%20%20%20%20%20%20%20%20%20%20%20%20ctx.drawImage(canvas%2C%20x%2C%20y)%3B%0A%20%20%20%20%20%20%20%20%20%20%20%20%20%20%20%20if%20(x%20%3E%3D%200%20%26%26%20y%20%3E%3D%200)%0A%20%20%20%20%20%20%20%20%20%20%20%20%20%20%20%20%20%20%20%20ctx.drawImage(canvas%2C%20-(x%20-%201)%2C%20-(y%20-%201))%3B%0A%20%20%20%20%20%20%20%20%20%20%20%20%7D%0A%20%20%20%20%20%20%20%20%7D%0A%20%20%20%20%20%20%20%20ctx.globalAlpha%20%3D%201%3B%0A%20%20%20%20%7D%3B%0A%20%20%20%20blurify.prototype.getDataURL%20%3D%20function%20(image)%20%7B%0A%20%20%20%20%20%20%20%20var%20canvas%20%3D%20document.createElement('canvas')%3B%0A%20%20%20%20%20%20%20%20var%20ctx%20%3D%20canvas.getContext('2d')%3B%0A%20%20%20%20%20%20%20%20canvas.width%20%3D%20image.width%3B%0A%20%20%20%20%20%20%20%20canvas.height%20%3D%20image.height%3B%0A%20%20%20%20%20%20%20%20ctx.drawImage(image%2C%200%2C%200)%3B%0A%20%20%20%20%20%20%20%20this.blurify(canvas%2C%20this.blur)%3B%0A%20%20%20%20%20%20%20%20return%20canvas.toDataURL(this.imageType)%3B%0A%20%20%20%20%7D%3B%0A%0A%20%20%20%20return%20blurify%3B%0A%0A%7D)))%3B%0A%2F%2F%23%20sourceMappingURL%3Dblurify.js.map%0A(function%20()%20%7B%0A%20%20%20%20new%20blurify(%7B%0A%20%20%20%20%20%20%20%20images%3A%20document.querySelectorAll('img')%2C%0A%20%20%20%20%20%20%20%20blur%3A%2030%2C%0A%20%20%20%20%20%20%20%20mode%3A%20'css'%2C%0A%20%20%20%20%7D)%3B%0A%7D)()%3B&response_type=image&url=https%3A%2F%2Fwww.google.com%2F\"\n",
    "\n",
    "\n"
   ]
  },
  {
   "cell_type": "code",
   "execution_count": null,
   "metadata": {},
   "outputs": [],
   "source": []
  },
  {
   "cell_type": "code",
   "execution_count": 16,
   "metadata": {},
   "outputs": [
    {
     "data": {
      "text/plain": [
       "'%3Cscript%20src%3D%22http%3A//35.246.157.75%3A5000/static/js/blurify.js%22%3E%3C/script%3E'"
      ]
     },
     "execution_count": 16,
     "metadata": {},
     "output_type": "execute_result"
    }
   ],
   "source": [
    "import urllib.parse\n",
    "urllib.parse.quote('<script src=\"http://35.246.157.75:5000/static/js/blurify.js\"></script>'.encode('utf-8'))"
   ]
  },
  {
   "cell_type": "code",
   "execution_count": 21,
   "metadata": {},
   "outputs": [
    {
     "ename": "UnidentifiedImageError",
     "evalue": "cannot identify image file <_io.BytesIO object at 0x7f9f23fc76b0>",
     "output_type": "error",
     "traceback": [
      "\u001b[0;31m---------------------------------------------------------------------------\u001b[0m",
      "\u001b[0;31mUnidentifiedImageError\u001b[0m                    Traceback (most recent call last)",
      "\u001b[0;32m<ipython-input-21-ae92745a467d>\u001b[0m in \u001b[0;36m<module>\u001b[0;34m\u001b[0m\n\u001b[1;32m      4\u001b[0m \u001b[0mr\u001b[0m\u001b[0;34m=\u001b[0m\u001b[0mrequests\u001b[0m\u001b[0;34m.\u001b[0m\u001b[0mget\u001b[0m\u001b[0;34m(\u001b[0m\u001b[0msearch_url\u001b[0m\u001b[0;34m,\u001b[0m \u001b[0mstream\u001b[0m\u001b[0;34m=\u001b[0m\u001b[0;32mTrue\u001b[0m\u001b[0;34m)\u001b[0m\u001b[0;34m\u001b[0m\u001b[0;34m\u001b[0m\u001b[0m\n\u001b[1;32m      5\u001b[0m \u001b[0mr\u001b[0m\u001b[0;34m.\u001b[0m\u001b[0mraw\u001b[0m\u001b[0;34m.\u001b[0m\u001b[0mdecode_content\u001b[0m \u001b[0;34m=\u001b[0m \u001b[0;32mTrue\u001b[0m \u001b[0;31m# handle spurious Content-Encoding\u001b[0m\u001b[0;34m\u001b[0m\u001b[0;34m\u001b[0m\u001b[0m\n\u001b[0;32m----> 6\u001b[0;31m \u001b[0mimg\u001b[0m \u001b[0;34m=\u001b[0m \u001b[0mImage\u001b[0m\u001b[0;34m.\u001b[0m\u001b[0mopen\u001b[0m\u001b[0;34m(\u001b[0m\u001b[0mr\u001b[0m\u001b[0;34m.\u001b[0m\u001b[0mraw\u001b[0m\u001b[0;34m)\u001b[0m\u001b[0;34m\u001b[0m\u001b[0;34m\u001b[0m\u001b[0m\n\u001b[0m\u001b[1;32m      7\u001b[0m \u001b[0mimg_file\u001b[0m \u001b[0;34m=\u001b[0m \u001b[0mos\u001b[0m\u001b[0;34m.\u001b[0m\u001b[0mpath\u001b[0m\u001b[0;34m.\u001b[0m\u001b[0mjoin\u001b[0m\u001b[0;34m(\u001b[0m\u001b[0mdir_name\u001b[0m\u001b[0;34m,\u001b[0m \u001b[0mstr\u001b[0m\u001b[0;34m(\u001b[0m\u001b[0mhash\u001b[0m\u001b[0;34m(\u001b[0m\u001b[0murl\u001b[0m\u001b[0;34m)\u001b[0m\u001b[0;34m)\u001b[0m\u001b[0;34m+\u001b[0m\u001b[0;34m\".jpg\"\u001b[0m\u001b[0;34m)\u001b[0m\u001b[0;34m\u001b[0m\u001b[0;34m\u001b[0m\u001b[0m\n\u001b[1;32m      8\u001b[0m \u001b[0mimg\u001b[0m\u001b[0;34m.\u001b[0m\u001b[0msave\u001b[0m\u001b[0;34m(\u001b[0m\u001b[0mimg_file\u001b[0m\u001b[0;34m)\u001b[0m\u001b[0;34m\u001b[0m\u001b[0;34m\u001b[0m\u001b[0m\n",
      "\u001b[0;32m~/opt/anaconda3/lib/python3.7/site-packages/PIL/Image.py\u001b[0m in \u001b[0;36mopen\u001b[0;34m(fp, mode)\u001b[0m\n\u001b[1;32m   2929\u001b[0m         \u001b[0mwarnings\u001b[0m\u001b[0;34m.\u001b[0m\u001b[0mwarn\u001b[0m\u001b[0;34m(\u001b[0m\u001b[0mmessage\u001b[0m\u001b[0;34m)\u001b[0m\u001b[0;34m\u001b[0m\u001b[0;34m\u001b[0m\u001b[0m\n\u001b[1;32m   2930\u001b[0m     raise UnidentifiedImageError(\n\u001b[0;32m-> 2931\u001b[0;31m         \u001b[0;34m\"cannot identify image file %r\"\u001b[0m \u001b[0;34m%\u001b[0m \u001b[0;34m(\u001b[0m\u001b[0mfilename\u001b[0m \u001b[0;32mif\u001b[0m \u001b[0mfilename\u001b[0m \u001b[0;32melse\u001b[0m \u001b[0mfp\u001b[0m\u001b[0;34m)\u001b[0m\u001b[0;34m\u001b[0m\u001b[0;34m\u001b[0m\u001b[0m\n\u001b[0m\u001b[1;32m   2932\u001b[0m     )\n\u001b[1;32m   2933\u001b[0m \u001b[0;34m\u001b[0m\u001b[0m\n",
      "\u001b[0;31mUnidentifiedImageError\u001b[0m: cannot identify image file <_io.BytesIO object at 0x7f9f23fc76b0>"
     ]
    }
   ],
   "source": [
    "dir_name = \"webpages\"\n",
    "url = \"https://www.google.com/\"\n",
    "# search_url = \"https://api.apiflash.com/v1/urltoimage?access_key=37bc0ab0376f4a33b4bac2e7a47776c4&height=1920&js=http%3A%2F%2F35.246.157.75%3A5000%2Fstatic%2Fjs%2Fblurify.js&url={}\".format(url)\n",
    "r=requests.get(search_url, stream=True)\n",
    "r.raw.decode_content = True # handle spurious Content-Encoding\n",
    "img = Image.open(r.raw)\n",
    "img_file = os.path.join(dir_name, str(hash(url))+\".jpg\")\n",
    "img.save(img_file)"
   ]
  },
  {
   "cell_type": "code",
   "execution_count": null,
   "metadata": {},
   "outputs": [],
   "source": [
    "http://35.246.157.75:5000%2Fstatic%2Fjs%2Fblurify.js\n",
    "http%3A%2F%2F35.246.157.75%3A5000%2Fstatic%2Fjs%2Fblurify.js"
   ]
  },
  {
   "cell_type": "code",
   "execution_count": null,
   "metadata": {},
   "outputs": [],
   "source": []
  }
 ],
 "metadata": {
  "kernelspec": {
   "display_name": "Python 3",
   "language": "python",
   "name": "python3"
  },
  "language_info": {
   "codemirror_mode": {
    "name": "ipython",
    "version": 3
   },
   "file_extension": ".py",
   "mimetype": "text/x-python",
   "name": "python",
   "nbconvert_exporter": "python",
   "pygments_lexer": "ipython3",
   "version": "3.7.7"
  }
 },
 "nbformat": 4,
 "nbformat_minor": 4
}
