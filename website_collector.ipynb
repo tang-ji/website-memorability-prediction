{
 "cells": [
  {
   "cell_type": "code",
   "execution_count": 182,
   "metadata": {},
   "outputs": [],
   "source": [
    "import requests, os, re\n",
    "from urllib.parse import urlparse\n",
    "from bs4 import BeautifulSoup\n",
    "from src.azurekey import *"
   ]
  },
  {
   "cell_type": "code",
   "execution_count": 69,
   "metadata": {},
   "outputs": [],
   "source": [
    "headers = {\n",
    "    'Access-Control-Allow-Origin': '*',\n",
    "    'Access-Control-Allow-Methods': 'GET',\n",
    "    'Access-Control-Allow-Headers': 'Content-Type',\n",
    "    'Access-Control-Max-Age': '3600',\n",
    "    'User-Agent': 'Mozilla/5.0 (X11; Ubuntu; Linux x86_64; rv:52.0) Gecko/20100101 Firefox/52.0'\n",
    "}\n",
    "def get_urls(n):\n",
    "    req = requests.get(\"https://moz.com/top500\", headers=headers)\n",
    "    soup = BeautifulSoup(req.text)\n",
    "    \n",
    "def search(search_term, azureKey, offset=0):\n",
    "    # print('searching using bing: \"'+search_term+'\"')\n",
    "    search_url = \"https://api.bing.microsoft.com/v7.0/search\"\n",
    "    subscription_key = azureKey\n",
    "    assert subscription_key\n",
    "    headers = {\"Ocp-Apim-Subscription-Key\" : subscription_key}\n",
    "    params  = {\"q\": search_term, \"responseFilter\": \"Webpages\",\"count\":50, \"offset\":offset, \"safeSearch\":\"Strict\"}\n",
    "    response = requests.get(search_url, headers=headers, params=params)\n",
    "    response.raise_for_status()\n",
    "    search_results = response.json()\n",
    "    return [v[\"url\"] for v in search_results[\"webPages\"][\"value\"]]"
   ]
  },
  {
   "cell_type": "code",
   "execution_count": 157,
   "metadata": {},
   "outputs": [],
   "source": [
    "for j in range(20):\n",
    "    search_results = search(\"relax\", azureKey, offset=j)\n",
    "    for i in search_results:\n",
    "        i_temp = urlparse(i)\n",
    "        if i_temp.scheme == \"https\":\n",
    "            web_list.add(i_temp.scheme + \"://\" + i_temp.netloc + \"/\")"
   ]
  },
  {
   "cell_type": "code",
   "execution_count": 189,
   "metadata": {},
   "outputs": [
    {
     "data": {
      "text/plain": [
       "795"
      ]
     },
     "execution_count": 189,
     "metadata": {},
     "output_type": "execute_result"
    }
   ],
   "source": [
    "len(web_list)"
   ]
  },
  {
   "cell_type": "code",
   "execution_count": null,
   "metadata": {},
   "outputs": [],
   "source": [
    "web_list"
   ]
  },
  {
   "cell_type": "code",
   "execution_count": null,
   "metadata": {},
   "outputs": [],
   "source": []
  }
 ],
 "metadata": {
  "kernelspec": {
   "display_name": "Python 3",
   "language": "python",
   "name": "python3"
  },
  "language_info": {
   "codemirror_mode": {
    "name": "ipython",
    "version": 3
   },
   "file_extension": ".py",
   "mimetype": "text/x-python",
   "name": "python",
   "nbconvert_exporter": "python",
   "pygments_lexer": "ipython3",
   "version": "3.7.7"
  }
 },
 "nbformat": 4,
 "nbformat_minor": 4
}
